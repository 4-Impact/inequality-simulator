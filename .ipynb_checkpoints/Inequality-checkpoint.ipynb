{
 "cells": [
  {
   "cell_type": "code",
   "execution_count": 1,
   "id": "b2b031e1-f685-4a76-b747-13891909ce08",
   "metadata": {},
   "outputs": [
    {
     "data": {
      "application/javascript": [
       "\n",
       "                    window.jupyter_python_executable = '\\r\\r';\n",
       "                    window.jupyter_widget_checks_silent = true;\n",
       "                    window.jupyter_widget_checks_libraries = [{\"python\": \"ipyvuetify\", \"classic\": \"jupyter-vuetify/extension\", \"lab\": \"jupyter-vuetify\"}, {\"python\": \"ipyvue\", \"classic\": \"jupyter-vue/extension\", \"lab\": \"jupyter-vue\"}];\n",
       "                    "
      ],
      "text/plain": [
       "<IPython.core.display.Javascript object>"
      ]
     },
     "metadata": {},
     "output_type": "display_data"
    },
    {
     "data": {
      "text/html": [
       "<div class=\"jupyter-widget-checks-container\">\n",
       "    <script>\n",
       "        (function () {\n",
       "            console.log(\"Checking for jupyter-widgets extensions\")\n",
       "            const inLab = window._JUPYTERLAB !== undefined;\n",
       "            const silent = jupyter_widget_checks_silent;\n",
       "            const containers = document.getElementsByClassName('jupyter-widget-checks-container');\n",
       "            const rootEl = containers[containers.length - 1];\n",
       "            const libraries = window.jupyter_widget_checks_libraries;\n",
       "\n",
       "            function getBaseUrl() {\n",
       "                const labConfigData = document.getElementById(\"jupyter-config-data\");\n",
       "                if (labConfigData) {\n",
       "                    /* lab and Voila */\n",
       "                    return JSON.parse(labConfigData.textContent).baseUrl;\n",
       "                }\n",
       "                let base = document.body.dataset.baseUrl || document.baseURI;\n",
       "                return base;\n",
       "            }\n",
       "\n",
       "            function checkLibrary(extensions, library) {\n",
       "                let installed = false;\n",
       "                let ok = true;\n",
       "                if (inLab) {\n",
       "                    installed = _JUPYTERLAB[library.lab] !== undefined\n",
       "                } else {\n",
       "                    installed = extensions[library.classic] !== undefined;\n",
       "                    let enabled = extensions[library.classic] === true;\n",
       "                }\n",
       "                const div = document.createElement(\"div\")\n",
       "                if (installed) {\n",
       "                    if (!silent) {\n",
       "                        div.innerHTML = `Extension ${library.python} is installed at the server ✅`\n",
       "                        rootEl.appendChild(div)\n",
       "                    }\n",
       "                } else {\n",
       "                    div.innerHTML = `Extension ${library.python} is <b>NOT</b> installed at the server ❌.`\n",
       "                    rootEl.appendChild(div)\n",
       "                    ok = false;\n",
       "                }\n",
       "                return ok;\n",
       "            }\n",
       "\n",
       "            async function check() {\n",
       "                const url = `${getBaseUrl()}api/config/notebook`\n",
       "                const response = (await fetch(url));\n",
       "                const data = await response.json()\n",
       "                const extensions = data[\"load_extensions\"];\n",
       "                var ok = true;\n",
       "                let needsInstall = [];\n",
       "                libraries.forEach((library) => {\n",
       "                    if (!checkLibrary(extensions, library)) {\n",
       "                        ok = false;\n",
       "                        needsInstall.push(library.python)\n",
       "                        console.log(\"Needs install\", library.python)\n",
       "                    }\n",
       "                })\n",
       "                console.log(ok, needsInstall)\n",
       "                if (!ok) {\n",
       "                    const div = document.createElement(\"div\")\n",
       "                    const div2 = document.createElement(\"div\")\n",
       "                    div.innerHTML = `Run <code>${jupyter_python_executable} -m pip install ${needsInstall.join(\" \")}</code>. Refresh the page after installation.`\n",
       "                    div2.innerHTML = `Visit <a href=\"https://solara.dev/documentation/getting_started/troubleshoot\" target=\"_blank\">https://solara/dev/documentation/getting_started/troubleshoot</a> for more information.`\n",
       "                    rootEl.appendChild(div)\n",
       "                    rootEl.appendChild(div2)\n",
       "                }\n",
       "            }\n",
       "            check()\n",
       "        })();\n",
       "    </script>\n",
       "</div>\n"
      ],
      "text/plain": [
       "<IPython.core.display.HTML object>"
      ]
     },
     "metadata": {},
     "output_type": "display_data"
    }
   ],
   "source": [
    "import mesa\n",
    "import numpy as np\n",
    "from mesa.visualization import SolaraViz,make_plot_measure"
   ]
  },
  {
   "cell_type": "code",
   "execution_count": 2,
   "id": "e8a4c6cc-27c1-43b8-a45e-794c20012560",
   "metadata": {},
   "outputs": [],
   "source": [
    "class WealthAgent(mesa.Agent):\n",
    "    \n",
    "    def __init__(self,model, proportion):\n",
    "        super().__init__(model)\n",
    "        self.wealth=10\n",
    "        self.W =proportion\n",
    "        \n",
    "        \n",
    "    def step(self):\n",
    "        #increase welath by proportion - payday\n",
    "        self.wealth += (self.W*self.wealth)\n",
    "        #self.wealth -= 10000 #surival expense\n",
    "        \n",
    "        if self.wealth > 0: \n",
    "            #get basic expenses\n",
    "            exchange_agent = self.random.choice(self.model.agents)\n",
    "            if exchange_agent is not None and exchange_agent is not self:\n",
    "                #print(self.wealth)\n",
    "                exchange_agent.wealth += (exchange_agent.W*self.wealth)\n",
    "                self.wealth -= (exchange_agent.W*self.wealth)"
   ]
  },
  {
   "cell_type": "code",
   "execution_count": 3,
   "id": "f782b448-e4f0-40ab-9d17-a6573f0a38af",
   "metadata": {},
   "outputs": [],
   "source": [
    "def wealth_distro(model):\n",
    "    agent_wealth = [agent.wealth for agent in model.agents]\n",
    "    y = sorted(agent_wealth)\n",
    "    X= list(range(1, 2001))\n",
    "    return (X,y)"
   ]
  },
  {
   "cell_type": "code",
   "execution_count": 4,
   "id": "248bd8cc-7fd2-43b7-993d-11677109a672",
   "metadata": {},
   "outputs": [],
   "source": [
    "class WealthModel(mesa.Model): \n",
    "    \n",
    "    def __init__(self, population):\n",
    "                 #average_income = 38000,\n",
    "                 #standard_deviation = 1818): #obtained from https://apps.bea.gov/scb/issues/2021/01-january/0121-revisions-to-gdp-gdi.htm\n",
    "        \n",
    "        super().__init__()\n",
    "        self.population = population\n",
    "        \n",
    "        #self.schedule = mesa.time.RandomActivation(self)\n",
    "        self.datacollector = mesa.DataCollector(model_reporters = {\"Distro\": wealth_distro},\n",
    "                                                agent_reporters={\"Wealth\":\"wealth\"})\n",
    "        \n",
    "        \n",
    "        # create an array of iniaital weatth value    \n",
    "        gaussian_array = np.random.normal(loc=0.5,\n",
    "                                          scale=0.15,\n",
    "                                          size=self.population)\n",
    "        # round array to two decimals\n",
    "        gaussian_array = np.around(gaussian_array, decimals=2)\n",
    "        \n",
    "        for idx in range(self.population):\n",
    "            WealthAgent(self, float(gaussian_array[idx]))\n",
    "    \n",
    "    def step(self):\n",
    "        self.datacollector.collect(self)\n",
    "        self.agents.shuffle_do(\"step\")"
   ]
  },
  {
   "cell_type": "code",
   "execution_count": 5,
   "id": "9b3c38d3-b120-430b-a5ab-6fb05fd41394",
   "metadata": {},
   "outputs": [
    {
     "data": {
      "application/vnd.jupyter.widget-view+json": {
       "model_id": "5eea0de3aeb74184bbed77fc9fe3549c",
       "version_major": 2,
       "version_minor": 0
      },
      "text/html": [
       "Cannot show widget. You probably want to rerun the code cell above (<i>Click in the code cell, and press Shift+Enter <kbd>⇧</kbd>+<kbd>↩</kbd></i>)."
      ],
      "text/plain": [
       "Cannot show ipywidgets in text"
      ]
     },
     "metadata": {},
     "output_type": "display_data"
    }
   ],
   "source": [
    "model = WealthModel(200)\n",
    "\n",
    "model_params = {\n",
    "    \"population\": {\n",
    "        \"type\": \"SliderInt\",\n",
    "        \"value\": 50,\n",
    "        \"label\": \"Number of agents:\",\n",
    "        \"min\": 10,\n",
    "        \"max\": 100,\n",
    "        \"step\": 1,\n",
    "    }\n",
    "}\n",
    "\n",
    "wealth_plot = make_plot_measure(\"Distro\")\n",
    "\n",
    "dash = SolaraViz(\n",
    "    model, \n",
    "    components=[wealth_plot],\n",
    "    model_params=model_params,\n",
    ")\n",
    "\n",
    "dash"
   ]
  },
  {
   "cell_type": "code",
   "execution_count": 6,
   "id": "e1e1b547-264b-404a-8937-80050a074175",
   "metadata": {},
   "outputs": [
    {
     "name": "stdout",
     "output_type": "stream",
     "text": [
      "0\n",
      "1\n"
     ]
    }
   ],
   "source": [
    "for step in range(2):\n",
    "    model.step()\n",
    "    print(step)"
   ]
  },
  {
   "cell_type": "code",
   "execution_count": 7,
   "id": "82391d24-0a30-43d9-86ff-46fe2d98086a",
   "metadata": {},
   "outputs": [
    {
     "data": {
      "text/plain": [
       "11327275692580.441"
      ]
     },
     "execution_count": 7,
     "metadata": {},
     "output_type": "execute_result"
    }
   ],
   "source": [
    "[agent.wealth for agent in model.agents][0]"
   ]
  },
  {
   "cell_type": "code",
   "execution_count": null,
   "id": "755b0096-da26-41c1-ab1d-a71d1921209b",
   "metadata": {},
   "outputs": [],
   "source": [
    "pip list"
   ]
  },
  {
   "cell_type": "code",
   "execution_count": null,
   "id": "71f22ac8-7339-4ba7-bed5-97aa6a5f1ec4",
   "metadata": {},
   "outputs": [],
   "source": []
  }
 ],
 "metadata": {
  "kernelspec": {
   "display_name": "Python 3 (ipykernel)",
   "language": "python",
   "name": "python3"
  },
  "language_info": {
   "codemirror_mode": {
    "name": "ipython",
    "version": 3
   },
   "file_extension": ".py",
   "mimetype": "text/x-python",
   "name": "python",
   "nbconvert_exporter": "python",
   "pygments_lexer": "ipython3",
   "version": "3.12.6"
  }
 },
 "nbformat": 4,
 "nbformat_minor": 5
}
