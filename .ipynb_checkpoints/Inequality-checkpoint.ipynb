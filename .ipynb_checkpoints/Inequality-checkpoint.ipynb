{
 "cells": [
  {
   "cell_type": "markdown",
   "id": "bdcbab2d-879c-44d7-8069-4d1ce22c68bb",
   "metadata": {
    "explanatory": true
   },
   "source": [
    "#explanatory\n",
    "\n"
   ]
  },
  {
   "cell_type": "markdown",
   "id": "d1c66f95-e3f7-4f7e-b06e-ca7fdc91a6a5",
   "metadata": {},
   "source": [
    "# Inequality simulator\n",
    "\n",
    "This code walks you through the *Inequality Simulator*. This is not meant to information policy, but to educatate individuals on the economphysics of wealth distribution. \n",
    "\n",
    "The challenge is what are the right policies to opitmize the overall health of the economy. "
   ]
  },
  {
   "cell_type": "markdown",
   "id": "73e61bbe-6273-4a75-9e19-bcaf0abbdc1e",
   "metadata": {
    "explanatory": true
   },
   "source": [
    "#explanatory\n",
    "\n",
    "Code is stored knowledge\n",
    "\n",
    "Sharing tha tknowledge is why the open source ecosystem is so powerful. \n",
    "\n",
    "This cell imports free libraries. \n",
    "\n",
    "#TODO Add links\n",
    "\n",
    "Numpy - numerical python, a library that helps us manage the wealth details we use\n",
    "Scipy - scientific python, - a library that helps us create known innovation and wealth distribution phenomenon\n",
    "Solara - a libaray that create visual interface for the simulation\n",
    "Matplotlib - A library that creates visuals \n",
    "Mesa - a simulation library that we use to build this inequality simulator\n",
    "\n"
   ]
  },
  {
   "cell_type": "code",
   "execution_count": 1,
   "id": "b2b031e1-f685-4a76-b747-13891909ce08",
   "metadata": {
    "has_explanation": true,
    "jupyter": {
     "source_hidden": true
    }
   },
   "outputs": [
    {
     "data": {
      "application/javascript": [
       "\n",
       "                    window.jupyter_python_executable = '\\r\\r';\n",
       "                    window.jupyter_widget_checks_silent = true;\n",
       "                    window.jupyter_widget_checks_libraries = [{\"python\": \"ipyvuetify\", \"classic\": \"jupyter-vuetify/extension\", \"lab\": \"jupyter-vuetify\"}, {\"python\": \"ipyvue\", \"classic\": \"jupyter-vue/extension\", \"lab\": \"jupyter-vue\"}];\n",
       "                    "
      ],
      "text/plain": [
       "<IPython.core.display.Javascript object>"
      ]
     },
     "metadata": {},
     "output_type": "display_data"
    },
    {
     "data": {
      "text/html": [
       "<div class=\"jupyter-widget-checks-container\">\n",
       "    <script>\n",
       "        (function () {\n",
       "            console.log(\"Checking for jupyter-widgets extensions\")\n",
       "            const inLab = window._JUPYTERLAB !== undefined;\n",
       "            const silent = jupyter_widget_checks_silent;\n",
       "            const containers = document.getElementsByClassName('jupyter-widget-checks-container');\n",
       "            const rootEl = containers[containers.length - 1];\n",
       "            const libraries = window.jupyter_widget_checks_libraries;\n",
       "\n",
       "            function getBaseUrl() {\n",
       "                const labConfigData = document.getElementById(\"jupyter-config-data\");\n",
       "                if (labConfigData) {\n",
       "                    /* lab and Voila */\n",
       "                    return JSON.parse(labConfigData.textContent).baseUrl;\n",
       "                }\n",
       "                let base = document.body.dataset.baseUrl || document.baseURI;\n",
       "                return base;\n",
       "            }\n",
       "\n",
       "            function checkLibrary(extensions, library) {\n",
       "                let installed = false;\n",
       "                let ok = true;\n",
       "                if (inLab) {\n",
       "                    installed = _JUPYTERLAB[library.lab] !== undefined\n",
       "                } else {\n",
       "                    installed = extensions[library.classic] !== undefined;\n",
       "                    let enabled = extensions[library.classic] === true;\n",
       "                }\n",
       "                const div = document.createElement(\"div\")\n",
       "                if (installed) {\n",
       "                    if (!silent) {\n",
       "                        div.innerHTML = `Extension ${library.python} is installed at the server ✅`\n",
       "                        rootEl.appendChild(div)\n",
       "                    }\n",
       "                } else {\n",
       "                    div.innerHTML = `Extension ${library.python} is <b>NOT</b> installed at the server ❌.`\n",
       "                    rootEl.appendChild(div)\n",
       "                    ok = false;\n",
       "                }\n",
       "                return ok;\n",
       "            }\n",
       "\n",
       "            async function check() {\n",
       "                const url = `${getBaseUrl()}api/config/notebook`\n",
       "                const response = (await fetch(url));\n",
       "                const data = await response.json()\n",
       "                const extensions = data[\"load_extensions\"];\n",
       "                var ok = true;\n",
       "                let needsInstall = [];\n",
       "                libraries.forEach((library) => {\n",
       "                    if (!checkLibrary(extensions, library)) {\n",
       "                        ok = false;\n",
       "                        needsInstall.push(library.python)\n",
       "                        console.log(\"Needs install\", library.python)\n",
       "                    }\n",
       "                })\n",
       "                console.log(ok, needsInstall)\n",
       "                if (!ok) {\n",
       "                    const div = document.createElement(\"div\")\n",
       "                    const div2 = document.createElement(\"div\")\n",
       "                    div.innerHTML = `Run <code>${jupyter_python_executable} -m pip install ${needsInstall.join(\" \")}</code>. Refresh the page after installation.`\n",
       "                    div2.innerHTML = `Visit <a href=\"https://solara.dev/documentation/getting_started/troubleshoot\" target=\"_blank\">https://solara/dev/documentation/getting_started/troubleshoot</a> for more information.`\n",
       "                    rootEl.appendChild(div)\n",
       "                    rootEl.appendChild(div2)\n",
       "                }\n",
       "            }\n",
       "            check()\n",
       "        })();\n",
       "    </script>\n",
       "</div>\n"
      ],
      "text/plain": [
       "<IPython.core.display.HTML object>"
      ]
     },
     "metadata": {},
     "output_type": "display_data"
    }
   ],
   "source": [
    "import numpy as np\n",
    "from scipy.stats import expon\n",
    "import solara \n",
    "from matplotlib.figure import Figure\n",
    "\n",
    "import mesa\n",
    "from mesa.visualization.utils import update_counter\n",
    "from mesa.visualization import SolaraViz, make_plot_component\n"
   ]
  },
  {
   "cell_type": "markdown",
   "id": "70562f7a-0449-4599-952e-4c01e3104a40",
   "metadata": {},
   "source": [
    "## Helper Functions\n",
    "\n",
    "We need to functions to help us assess our simulation\n",
    "\n",
    "**calculate churn** This function tells us the social mobility of our population. Do the rich always stay rich and do the poor always stay poor? Or, do our policies allows us to indivuals to move economicaslly based on the value of their ideas> \n",
    "\n",
    "**number to words** THis function simply makes it easier to understand how much money our simualted ecnomy is generating. \n"
   ]
  },
  {
   "cell_type": "markdown",
   "id": "d735f0d0-8980-4e8a-9101-ad58eacd8982",
   "metadata": {},
   "source": [
    "### Calculate Churn\n",
    "\n",
    "This function goes through each agent in the model and determines if an agent moved up an economic class or down. \n",
    "\n",
    "All agents start with 1 unit of wealth and so all start in the \"middle class\"\n",
    "\n",
    "As each \"step\" occurs in the simulation, the model tracks how many move betwen classes and so change form their previous class to a new class. "
   ]
  },
  {
   "cell_type": "markdown",
   "id": "3069fa85-a171-46a1-9acf-7155a19a0b8a",
   "metadata": {
    "explanatory": true
   },
   "source": [
    "#explanatory\n",
    "\n",
    "The functions first set to zero variables of moving up or down. \n",
    "\n",
    "Next the function goes through each agents and asks if the agents brackets changes (the bracket are determined futher one) \n",
    "\n",
    "Then the model simply compares the previous economic income bracket with its current income bracket. If the income bracket changed the function then adds a plus one to whether the agent moved up or down.   \n",
    "\n",
    "\n"
   ]
  },
  {
   "cell_type": "code",
   "execution_count": 2,
   "id": "1a82b950-8388-49c1-8b74-738ac956ecb8",
   "metadata": {
    "has_explanation": true,
    "jupyter": {
     "source_hidden": true
    }
   },
   "outputs": [],
   "source": [
    "def calculate_churn(model): \n",
    "    #zero variables\n",
    "    moving_up = 0\n",
    "    moving_down = 0\n",
    "\n",
    "    # Iterate through each agent\n",
    "    for agent in model.agents: \n",
    "        # Determine if something changed\n",
    "        if agent.previous != agent.bracket: \n",
    "            if agent.previous == \"Middle\":\n",
    "                if agent.bracket == \"Upper\":\n",
    "                    moving_up += 1\n",
    "                elif agent.bracket == \"Lower\":\n",
    "                    moving_down += 1\n",
    "            if agent.previous == \"Upper\":\n",
    "                if agent.bracket == \"Middle\" or agent.bracket == \"Lower\": \n",
    "                    moving_down += 1\n",
    "            if agent.previous == \"Lower\":\n",
    "                if agent.bracket == \"Upper\" or agent.bracket == \"Middle\":\n",
    "                    moving_up += 1\n",
    "    totals = model.agents.groupby(\"bracket\").count()\n",
    "    if \"Upper\" not in totals:\n",
    "        totals[\"Upper\"] = 0\n",
    "    if \"Middle\" not in totals:\n",
    "        totals[\"Middle\"]=0\n",
    "    if \"Lower\" not in totals: \n",
    "        totals[\"Lower\"]=0\n",
    "    return [moving_up, moving_down, totals]"
   ]
  },
  {
   "cell_type": "markdown",
   "id": "8887230f-62ba-4349-bece-8f86e08611ec",
   "metadata": {},
   "source": [
    "### Numbers to Words\n",
    "\n",
    "This function simply tasks the total amount of wealth being created in the model and make it more easily readable. "
   ]
  },
  {
   "cell_type": "markdown",
   "id": "34da6209-7e74-4d6f-9194-fc69c9d0d001",
   "metadata": {
    "explanatory": true
   },
   "source": [
    "#explanatory\n",
    "\n",
    "This function writes out thresholds based on how much wealth is in the economy. \n",
    "\n",
    "If the threshhold is above a billion it takes that 1,000,000,000 and turns it to a billion.  "
   ]
  },
  {
   "cell_type": "code",
   "execution_count": 3,
   "id": "65e67ed3-d473-445f-a073-87ff60c35658",
   "metadata": {
    "has_explanation": true,
    "jupyter": {
     "source_hidden": true
    }
   },
   "outputs": [],
   "source": [
    "def number_to_words(n):\n",
    "    # Define thresholds and corresponding words, adding \"Trillion\"\n",
    "    thresholds = [\n",
    "        (1_000_000_000_000, 'Trillion'),\n",
    "        (1_000_000_000, 'Billion'),\n",
    "        (1_000_000, 'Million'),\n",
    "        (1_000, 'Thousand')\n",
    "    ]\n",
    "    \n",
    "    # Loop through thresholds to determine appropriate scale\n",
    "    for threshold, word in thresholds:\n",
    "        if n >= threshold:\n",
    "            value = n / threshold\n",
    "            return f\"{int(value)} {word}\"\n",
    "    \n",
    "    # If less than 1000, just return the number as a string\n",
    "    return str(n)   \n",
    "    "
   ]
  },
  {
   "cell_type": "markdown",
   "id": "41564b5a-1fd7-4a6d-be28-9b717df2ae42",
   "metadata": {},
   "source": [
    "## Visuals\n",
    "\n",
    "This section creates the visuals we use for the simulation. It creates 4 visuals. \n",
    "\n",
    "1. Histogram of the wealth, this shows the number of people (agents) (y -axis) and the amount of wealth (x-axis)\n",
    "2. Churn visual shows how many people are changing economic class\n",
    "3. Gini Coefficient shows a standard measure of wealth distribution. If one person has all the wealth the gini coeeficient is 1, if the each person has the exact same amount of wealth the gini coefficient is 0\n",
    "4. The total wealth is the welath of each agent added up to create thte total wealth of the population"
   ]
  },
  {
   "cell_type": "markdown",
   "id": "d992b046-4105-4fd4-a62e-0123df3315a3",
   "metadata": {},
   "source": [
    "### Histogram\n",
    "\n",
    "This function plots a histogram of the wealth distribution of the agents. \n",
    "\n",
    "A histogram takes the number of of agents with wealth between some value such as 0 and 10 and then counts them. \n",
    "\n",
    "In this simulation we have 200 agents. There may be 80 wealth wealth between 0 and 10, and then 10 with wealth between 10 and 50, and then 5 with wealth between 50 and 100 and then 5 more with wealth at different levels that puts each agent in their own bin. "
   ]
  },
  {
   "cell_type": "markdown",
   "id": "bf342d73-ecd9-485b-a5cb-71fd3886339c",
   "metadata": {
    "explanatory": true
   },
   "source": [
    "#explanatory\n",
    "\n",
    "This function uses matplolib and grpahing library we imported earlier and in one line takes a list of the agent wealth and turns it into a histogram. \n",
    "\n",
    "Breaking down this function we have: \n",
    "- update_counter this is a Mesa (imported library) function that get all the informatin frm the simulation\n",
    "- figure and ax create the base graph\n",
    "- wealth_vals gets the wealth of all 200 agents and puts it in a list so [1, 40, 200 ... etc]\n",
    "- ax.hist places those values in a histogram\n",
    "- solara.FigureMatplib the plots this data in a grpah in our simulation"
   ]
  },
  {
   "cell_type": "code",
   "execution_count": 4,
   "id": "c0fa4bf1-f7cb-465e-b70f-fc61029dcb1d",
   "metadata": {
    "has_explanation": true,
    "jupyter": {
     "source_hidden": true
    }
   },
   "outputs": [],
   "source": [
    "@solara.component\n",
    "def Histogram(model):\n",
    "    update_counter.get() # This is required to update the counter\n",
    "    # Note: you must initialize a figure using this method instead of\n",
    "    # plt.figure(), for thread safety purpose\n",
    "    fig = Figure()\n",
    "    ax = fig.subplots()\n",
    "    wealth_vals = [agent.wealth for agent in model.agents]\n",
    "    # Note: you have to use Matplotlib's OOP API instead of plt.hist\n",
    "    # because plt.hist is not thread-safe.\n",
    "    ax.hist(wealth_vals, bins=10)\n",
    "    solara.FigureMatplotlib(fig)"
   ]
  },
  {
   "cell_type": "markdown",
   "id": "395e0be0-3dfa-4c19-8023-5a3b80ae24a6",
   "metadata": {},
   "source": [
    "### Churn\n",
    "\n",
    "This function plots the number of agent sin each ecnomic class and the movement of agents between classes."
   ]
  },
  {
   "cell_type": "markdown",
   "id": "4df9335d-d0df-4da7-8cfd-31764bcb36bd",
   "metadata": {
    "explanatory": true
   },
   "source": [
    "#explanatory\n",
    "\n",
    "The update_count.get is a mesa function to get the data form the simulation\n",
    "\n",
    "The figure and ax are matplotlib functions to create the base plot on a cartesian system\n",
    "\n",
    "The churn details is the result of the `calculate_churn` function discussed previously\n",
    "\n",
    "Each of the next lines plots the class or movement with the first two numbers being their x and y location, then what words to plot, and finally some style such as color and font size.\n",
    "\n",
    "Finally the Solara plot function so it show up on the dashboard"
   ]
  },
  {
   "cell_type": "code",
   "execution_count": 5,
   "id": "49f695c9-01ee-43c1-9211-7f7961f4ec8d",
   "metadata": {
    "has_explanation": true,
    "jupyter": {
     "source_hidden": true
    }
   },
   "outputs": [],
   "source": [
    "@solara.component\n",
    "def Churn(model): \n",
    "    update_counter.get()\n",
    "\n",
    "    fig = Figure()\n",
    "    ax = fig.subplots()\n",
    "    ax.axis('off')\n",
    "    churn_details = calculate_churn(model)\n",
    "    ax.text(0.2, 0.8, f\"Upper Class: {round((churn_details[2][\"Upper\"]/200)*100,0)}% \", va='center', ha='left', color=\"green\", fontsize=15)\n",
    "    ax.text(0.2,0.5,f\"Middle Class {round((churn_details[2][\"Middle\"]/200)*100,0)}% \",  va='center', ha='left', color=\"orange\", fontsize=15)\n",
    "    ax.text(0.2, 0.2, f\"Lower Class {round((churn_details[2][\"Lower\"]/200)*100,0)}% \", va='center', ha='left', color=\"red\", fontsize=15)\n",
    "    ax.text(0.6, 0.6, f\"Moving Up {round((churn_details[0]/200)*100,2)}%\", va='center', ha='left', color=\"black\", fontsize=15)\n",
    "    ax.text(0.6, 0.4, f\"Moving Down {round((churn_details[1]/200)*100,2)}%\", va='center', ha='left', color=\"black\", fontsize=15)\n",
    "    \n",
    "    solara.FigureMatplotlib(fig)"
   ]
  },
  {
   "cell_type": "markdown",
   "id": "2980438a-4345-422a-b34f-c967fde9443f",
   "metadata": {},
   "source": [
    "### Gini Coefficient\n",
    "\n",
    "[The Gini coefficient is a measure of wealth distribution](https://en.wikipedia.org/wiki/Gini_coefficient)\n",
    "\n",
    "If one agent has all the wealth the number will be 1. If the wealth is perfectly distirbuted where all agents have exactly the same amount the wealth will be 0. \n",
    "\n",
    "[Here is the World Bank's list of Gini Coefficients by country](https://data.worldbank.org/indicator/SI.POV.GINI)"
   ]
  },
  {
   "cell_type": "markdown",
   "id": "130d9b45-3241-44ea-a78f-e96a471608a7",
   "metadata": {
    "explanatory": true
   },
   "source": [
    "#explanatory\n",
    "\n",
    "This function first gets a list of the wealth of all agents\n",
    "\n",
    "In then sorts them from poorest to richest\n",
    "\n",
    "It then takes the agent wealth, multiplied by the agents rank and then normalized for the wealth of the population. \n",
    "\n",
    "For the return discounting the 1/200 if B equals 0.5, this means perfect equity, becuase you will have 1-(2 * 0.5). If B equals 0 then you have complete inequity. \n",
    "\n",
    "Finally it returns gini coefficient. "
   ]
  },
  {
   "cell_type": "code",
   "execution_count": 6,
   "id": "a958776e-ca07-41c2-92e5-c3e53e4a00a5",
   "metadata": {
    "has_explanation": true,
    "jupyter": {
     "source_hidden": true
    }
   },
   "outputs": [],
   "source": [
    "def compute_gini(model):\n",
    "    agent_wealths = [abs(float(agent.wealth)) for agent in model.agents]\n",
    "    x = sorted(agent_wealths)\n",
    "    N = model.population\n",
    "    B = sum(xi * (N - i) for i, xi in enumerate(x)) / (N * sum(x))\n",
    "    return 1 + (1 / N) - 2 * B"
   ]
  },
  {
   "cell_type": "markdown",
   "id": "ff861d0f-f120-4e62-8748-1b88847461da",
   "metadata": {},
   "source": [
    "### Population Wealth\n",
    "\n",
    "Based on the policy the simulation is running, the total welath of the population will change. This visuals simply shows how much total welath isin the population "
   ]
  },
  {
   "cell_type": "markdown",
   "id": "0e27e5d9-b7b7-488f-8346-75be09021518",
   "metadata": {
    "explanatory": true
   },
   "source": [
    "#explanatory\n",
    "\n",
    "- update_counter gets the most recent data form the model\n",
    "- fig and ax create the based graph\n",
    "- total_wealth adds of the wealth of each agent to the total wealth\n",
    "- words calls the earlier discussed number_to_words function and converts the very large numbers (in some cases) to a more readble format\n",
    "- the ax.text plot the policy, and total wealth\n",
    "- the solara line plots it on the dashboard"
   ]
  },
  {
   "cell_type": "code",
   "execution_count": 7,
   "id": "757e4523-4d83-46bb-b0a5-8d13e259b977",
   "metadata": {
    "has_explanation": true,
    "jupyter": {
     "source_hidden": true
    }
   },
   "outputs": [],
   "source": [
    "@solara.component\n",
    "def Wealth(model): \n",
    "    update_counter.get()\n",
    "    fig = Figure()\n",
    "    ax = fig.subplots()\n",
    "    ax.axis('off')\n",
    "    total_wealth = sum([agent.wealth for agent in model.agents])\n",
    "    words = number_to_words(int(total_wealth))\n",
    "    ax.text(0.0,0.8,f\"Total Wealth Using {model.policy} Policy\", \n",
    "             va='center', ha='left', color=\"black\", fontsize=20)\n",
    "    ax.text(0.5,0.5,f\"{words}\", \n",
    "             va='center', ha='left', color=\"black\", fontsize=20)\n",
    "    solara.FigureMatplotlib(fig)\n",
    "\n"
   ]
  },
  {
   "cell_type": "markdown",
   "id": "c491dada-0c15-49d9-abc8-f718695a6450",
   "metadata": {},
   "source": [
    "## Simulation\n",
    "\n",
    "The next two sections create the model. There is really two parts:\n",
    "\n",
    "- Agent: creates the agents and there inateraction logic\n",
    "- Model: the manager class that creates the agents, also manages their interaction, and collects data"
   ]
  },
  {
   "cell_type": "markdown",
   "id": "832a7e00-180d-44c8-b9a0-fa7bfcd0a670",
   "metadata": {},
   "source": [
    "### Agent\n",
    "\n",
    "This class determines the agent behaviors\n",
    "\n",
    "The logic is fairly straightforward. \n",
    "- Agents receive a payday based on their W attribute\n",
    "- Agents then pay a survival fee which adjusts for inflation (#Should this be deleted?)\n",
    "- They then pay another agent which is the econophysics aspect for the exchange of goods and services\n",
    "If there is a powerful leader policy or equal distribution policy there is then a party elite:\n",
    "- In this case agents pay a tax to the party elite\n",
    "If there is an innovation policy:\n",
    "- Agents can increase their wealth (or decrease if they have a bad idea) if they have the start up capital\n",
    "- If they have start up capital then the agent pay is adjust based on the quality of their innovation\n",
    "- The benefit of the innovation then decays over time\n",
    "Finally, the agent economic class is updated"
   ]
  },
  {
   "cell_type": "markdown",
   "id": "8e128e22-bb0f-4d98-9f27-7565ca494ff7",
   "metadata": {
    "explanatory": true
   },
   "source": [
    "#explanatory\n",
    "\n",
    "The __init__ function initializes the agent with several attributes (many of these are determined in the model class next):\n",
    "- wealth: Starts at 1, representing the agent's initial wealth.\n",
    "- party_elite: True or False indicating if the agent is part of the elite group.\n",
    "- bracket: Indicates the wealth bracket (\"Lower\", \"Middle\", or \"Upper\").\n",
    "- W: Proportion, used to calculate wealth growth.\n",
    "- I: Innovation factor that influences the agent's wealth growth over time.\n",
    "- ioriginal: Stores the initial innovation factor for resetting later.\n",
    "- decay: Tracks how the innovation factor decreases over time.\n",
    "\n",
    "**Payday** The agent's wealth increases proportionally (W) to its current wealth.\n",
    "\n",
    "**Survivial costs**\n",
    "Adjusts the agent's wealth for survival costs (e.g., inflation). If the agent's wealth is less than or equal to the survival cost, it loses all wealth.\n",
    "\n",
    "**Econophysics**\n",
    "\n",
    "Simulates a wealth exchange between the agent and a randomly chosen peer.\n",
    "Transfers a portion of the agent's wealth (exchange_agent.W * self.wealth) to the other agent, creating a dynamic wealth redistribution mechanics\n",
    "\n",
    "**Powerful leader or wealth distribution**\n",
    "\n",
    "If the policy supports \"powerful leaders\" or \"equal wealth distribution,\" the agent pays a 5% tax to a randomly chosen party elite.\n",
    "\n",
    "**Innovation**\n",
    "\n",
    "Innovation policy increases the wealth growth rate (W) by multiplying it with the innovation factor (I) if the agent's wealth exceeds the initial capital.\n",
    "Innovation decreases over time due to decay, which starts at 0 and increases with each step.\n",
    "If the wealth drops below the initial capital, the decay resets, and the innovation factor reverts to its original value."
   ]
  },
  {
   "cell_type": "code",
   "execution_count": 12,
   "id": "e8a4c6cc-27c1-43b8-a45e-794c20012560",
   "metadata": {
    "has_explanation": true,
    "jupyter": {
     "source_hidden": true
    }
   },
   "outputs": [],
   "source": [
    "class WealthAgent(mesa.Agent):\n",
    "    \n",
    "    def __init__(self,model, proportion,innovation,party_elite):\n",
    "        super().__init__(model)\n",
    "        self.wealth=1\n",
    "        self.party_elite = party_elite\n",
    "        self.bracket = \"Middle\"\n",
    "        self.previous = \"Middle\"\n",
    "        self.W = proportion\n",
    "        self.I = innovation\n",
    "        self.ioriginal = innovation\n",
    "        self.decay = 0\n",
    "        \n",
    "    \n",
    "    def step(self):\n",
    "        \n",
    "        \"\"\"\n",
    "                                PAYDAY\n",
    "        \"\"\"\n",
    "        self.previous = self.bracket\n",
    "        #increase wealth by proportion - payday\n",
    "        self.wealth += (self.W*self.wealth)\n",
    "        \n",
    "        \n",
    "        #Survivial cost which adjust for total wealth in the model (e.g. inflation)-- Should this be deleted\n",
    "        if self.wealth > self.model.survival_cost and self.wealth > 0: \n",
    "            self.wealth -= self.model.survival_cost\n",
    "        else: \n",
    "            self.wealth -= self.wealth\n",
    "        \n",
    "        \"\"\"\n",
    "                                   Econophysics core reasoning\n",
    "        \"\"\"\n",
    "                        \n",
    "        exchange_agent = self.random.choice(self.model.agents)\n",
    "        \n",
    "        if self.wealth >= 0 and exchange_agent is not None and exchange_agent is not self:\n",
    "            exchange_agent.wealth += (exchange_agent.W*self.wealth)\n",
    "            self.wealth -= (exchange_agent.W*self.wealth)      \n",
    "        \n",
    "        '''\n",
    "                                Powerful Leaders or Equal Wealth\n",
    "        '''\n",
    "        \n",
    "        #If powerful leaders or equal wealth agents have to pay a tax to the party elites\n",
    "        if self.model.policy==\"powerful leaders\" or self.model.policy==\"equal wealth distribution\": \n",
    "            party_elites = self.model.agents.select(lambda a: a.party_elite==True)\n",
    "            #pay tax to the party_elite\n",
    "            party_elite = self.random.choice(party_elites)\n",
    "            party_elite.wealth += self.wealth*.05\n",
    "            self.wealth -= self.wealth*.05\n",
    "        \n",
    "        \"\"\"\n",
    "                            INNOVATION\n",
    "        \"\"\"\n",
    "           \n",
    "        if self.model.policy==\"Innovation\": \n",
    "            if self.wealth > self.model.inital_captial: \n",
    "                #increase payday by innovation\n",
    "                self.W*=self.I\n",
    "                #Value of innovation decreases over time\n",
    "                self.I-=self.decay #starts at 0\n",
    "                #increase decay for next step \n",
    "                self.decay+=0.1\n",
    "            else: \n",
    "                self.decay = 0 \n",
    "                self.I = self.ioriginal\n",
    "\n",
    "        #calculate bracket\n",
    "        if self.wealth < self.model.brackets[0]:\n",
    "            self.bracket = \"Lower\"\n",
    "        elif self.wealth >= self.model.brackets[1]:\n",
    "            self.bracket = \"Upper\"\n",
    "        else: \n",
    "            self.bracket = \"Middle\"\n",
    "       "
   ]
  },
  {
   "cell_type": "markdown",
   "id": "d5f03684-d22c-4bc4-8e68-2cdc6e91b721",
   "metadata": {},
   "source": [
    "### Model\n",
    "\n",
    "The class provides the management for the simulation. It starts with two helper functions, calculating the economic classes (needs a better approach) and then calculating the start up funding necessary to invest in innovation\n",
    "\n",
    "Next is the model class which first creates each agent and assigns them their attributes based on statiscial distributions. \n",
    "\n",
    "Finally is the step function which calls on the agents and executes the logic of the various policies. "
   ]
  },
  {
   "cell_type": "markdown",
   "id": "20f99003-d7bb-4c09-946b-a4222d59d281",
   "metadata": {
    "explanatory": true
   },
   "source": [
    "#explanatory\n",
    "\n",
    "`calc_brackets` Function\n",
    "- **Purpose**: This function calculates wealth brackets for the agents in the model. It divides the agents into three categories: \"Lower,\" \"Middle,\" and \"Upper\" wealth brackets.\n",
    "- **How it works**: It identifies the maximum wealth among all agents and calculates thresholds at 33% and 67% of this maximum value. These thresholds define the boundaries for each bracket.\n",
    "\n",
    "\n",
    "\n",
    "`start_up_required` Function\n",
    "- **Purpose**: Determines the startup capital required for innovation based on the wealth distribution among agents.\n",
    "- **How it works**: It uses Sturges' rule to calculate the number of bins for dividing wealth. Then, it identifies the maximum wealth in each bin. This allows the model to assess how wealth is distributed and determine the required capital for innovation based on the selected policy.\n",
    "\n",
    "\n",
    "\n",
    "`WealthModel` Class\n",
    "\n",
    "`__init__` Method\n",
    "- **Purpose**: Initializes the model and its key attributes.\n",
    "- **Attributes**:\n",
    "  - `policy`: Specifies the policy being simulated (e.g., \"econophysics,\" \"powerful leaders,\" \"equal wealth distribution,\" or \"innovation\").\n",
    "  - `population`: Defines the number of agents in the simulation.\n",
    "  - `brackets`: Initial thresholds for categorizing agents into wealth brackets.\n",
    "  - `start_up_required`: Configures how startup capital is determined for innovation.\n",
    "  - `datacollector`: Tracks key metrics like Gini coefficient, total wealth, and individual agent attributes over time.\n",
    "- **Agent Initialization**: \n",
    "  - Agents are initialized with a wealth proportion (`W`) from a normal distribution and an innovation factor (`I`) from a Pareto distribution. \n",
    "  - Party elites are identified as the top 5% of agents based on wealth.\n",
    "`step` Method\n",
    "**Purpose**: Defines the model's behavior at each time step. It updates wealth brackets, calculates survival costs, and implements the selected policy.\n",
    "\n",
    "\n",
    "Key Components:\n",
    "1. **Calculating Brackets**:\n",
    "   - Updates wealth thresholds dynamically based on the current maximum wealth in the system.\n",
    "\n",
    "2. **Survival Costs**:\n",
    "   - Determines a survival cost (e.g., inflation) as the 10th percentile of an exponential distribution scaled to the mean wealth.\n",
    "\n",
    "3. **Policy Implementation**:\n",
    "   - **Econophysics**: Agents exchange wealth randomly with others, simulating a redistribution mechanism.\n",
    "   - **Powerful Leaders**: Non-elite agents interact and transfer wealth, but elites are exempt from giving.\n",
    "   - **Equal Wealth Distribution**: Wealth is redistributed equally among all agents at the start of each time step.\n",
    "   - **Innovation**: Startup capital for innovation is determined based on wealth distribution, and agents with sufficient capital experience accelerated growth.\n",
    "\n",
    "4. **Data Collection**:\n",
    "   - Collects data every five steps to capture key metrics for analysis while avoiding excessive noise in visualizations."
   ]
  },
  {
   "cell_type": "code",
   "execution_count": 20,
   "id": "248bd8cc-7fd2-43b7-993d-11677109a672",
   "metadata": {
    "has_explanation": true,
    "jupyter": {
     "source_hidden": true
    }
   },
   "outputs": [],
   "source": [
    "def total_wealth(model): \n",
    "    return sum([agent.wealth for agent in model.agents])\n",
    "\n",
    "def calc_brackets(model):  \n",
    "        most = max([agent.wealth for agent in model.agents])\n",
    "        return [int(most*0.33), int(most*0.67)]\n",
    "\n",
    "def start_up_required(model): \n",
    "\n",
    "    # Number of bins using Sturges' rule\n",
    "    num_bins = int(np.ceil(np.log2(model.population) + 1))\n",
    "    \n",
    "    wealth_list = np.array([agent.wealth for agent in model.agents])\n",
    "    # Create the bins\n",
    "    bin_edges = np.linspace(min(wealth_list), max(wealth_list), num_bins + 1)\n",
    "    \n",
    "    # Find the max value in each bin\n",
    "    bin_max_values = []\n",
    "    for i in range(len(bin_edges) - 1):\n",
    "        # Get the lower and upper bound of the current bin\n",
    "        lower_bound = bin_edges[i]\n",
    "        upper_bound = bin_edges[i + 1]\n",
    "        # Find the values in this bin\n",
    "        values_in_bin = wealth_list[(wealth_list >= lower_bound) & (wealth_list < upper_bound)]\n",
    "        \n",
    "        # Find the max value in the bin (if any values are in the bin)\n",
    "        if len(values_in_bin) > 0:\n",
    "            bin_max_values.append(max(values_in_bin))\n",
    "        else:\n",
    "            bin_max_values.append(None)  # No values in this bin\n",
    "    return bin_max_values\n",
    "    \n",
    "class WealthModel(mesa.Model): \n",
    "    \n",
    "    def __init__(self, policy=\"econophysics\", population=200, start_up_required = 1, seed=42):\n",
    "        \n",
    "        super().__init__()\n",
    "        self.policy = policy\n",
    "        self.population = population\n",
    "        self.party_elite = None\n",
    "        self.total = 200\n",
    "        self.survival_cost = 0\n",
    "        self.each_wealth = 0\n",
    "        self.brackets = [0.75,1.25]\n",
    "        self.start_up_required = start_up_required\n",
    "        self.inital_capital = 1.5\n",
    "        \n",
    "        self.datacollector = mesa.DataCollector(model_reporters = {\"Gini\": compute_gini,\"Total\": total_wealth },\n",
    "                                               agent_reporters={\"Wealth\":\"wealth\", \"Bracket\":\"bracket\",\n",
    "                                                                \"Pay\":\"W\", \"Innovation\":\"I\" })\n",
    "        \n",
    "        \n",
    "        mean = 0.2      # mean of the distribution\n",
    "        sigma = 0.05     # original sigma, so variance is 2*sigma^2\n",
    "        variance = 2 * sigma**2\n",
    "\n",
    "        # Generate 200 data points from the Gaussian distribution\n",
    "        payday_array = np.random.normal(mean, np.sqrt(variance), self.population)\n",
    "        \n",
    "        \n",
    "        innovation_array =  np.random.pareto(2.5,size=200)\n",
    "        '''\n",
    "        innovation_array = np.random.normal(loc=1,\n",
    "                                          scale=0.1,\n",
    "                                          size=self.population)\n",
    "        '''\n",
    "        # round array to two decimals\n",
    "        payday_array = np.around(payday_array, decimals=2)\n",
    "        party_elite_cut= np.percentile(payday_array, 95)\n",
    "        \n",
    "        innovation_array = np.around(innovation_array, decimals=2)\n",
    "        \n",
    "        for idx in range(self.population):\n",
    "            party_elite=False\n",
    "            if payday_array[idx] >=party_elite_cut: \n",
    "                party_elite=True\n",
    "            WealthAgent(self, float(payday_array[idx]), float(innovation_array[idx]), party_elite)\n",
    "    \n",
    "    def step(self):\n",
    "        self.brackets = calc_brackets(self)\n",
    "        self.total = total_wealth(self)\n",
    "        #Deternine survival cost based on inflation\n",
    "        exp_scale = np.mean([agent.wealth for agent in self.agents])\n",
    "        self.survival_cost = expon.ppf(0.1, scale=exp_scale)\n",
    "        if self.policy==\"econophysics\": \n",
    "            self.agents.shuffle_do(\"step\")\n",
    "        \n",
    "        # party_elites can only receive from subordinates but never give money\n",
    "        if self.policy==\"powerful leaders\": \n",
    "            subordinates = model.agents.select(lambda a: a.party_elite==False)\n",
    "            subordinates.shuffle_do(\"step\")\n",
    "        \n",
    "        # Divide the wealth equally among all agents at the beginning of the time step\n",
    "        if self.policy==\"equal wealth distribution\": #Should this exlcude the party elite\n",
    "            each_wealth = self.total/self.population\n",
    "            for agent in self.agents: \n",
    "                agent.wealth=each_wealth\n",
    "            self.agents.shuffle_do(\"step\")\n",
    "\n",
    "        if self.policy==\"innovation\": \n",
    "            bins = start_up_required(self)\n",
    "            if self.start_up_required==1: \n",
    "                self.initial_capital = bins[0]\n",
    "            elif self.start_up_required==2: \n",
    "                mid = len(bins) // 2\n",
    "                self.initial_capital =bins[mid]\n",
    "            else:\n",
    "                self.initial_capital =bins[-1]\n",
    "            self.agents.shuffle_do(\"step\")\n",
    "             \n",
    "        if self.steps//5 == 0: #Only collect every 5 steps to make visuals more understandable \n",
    "            self.datacollector.collect(self)\n",
    "       \n",
    "       \n",
    "        \n",
    "       "
   ]
  },
  {
   "cell_type": "markdown",
   "id": "a1f20c8e-b57f-4d63-a32b-da63195d52c0",
   "metadata": {},
   "source": [
    "## Dashboard\n",
    "\n",
    "This cell create the interactive dashboard for the model "
   ]
  },
  {
   "cell_type": "code",
   "execution_count": 21,
   "id": "9b3c38d3-b120-430b-a5ab-6fb05fd41394",
   "metadata": {
    "has_explanation": false,
    "jupyter": {
     "source_hidden": true
    }
   },
   "outputs": [
    {
     "data": {
      "application/vnd.jupyter.widget-view+json": {
       "model_id": "ad5eb0e641f347ec9b9d09d78afb06b1",
       "version_major": 2,
       "version_minor": 0
      },
      "text/html": [
       "Cannot show widget. You probably want to rerun the code cell above (<i>Click in the code cell, and press Shift+Enter <kbd>⇧</kbd>+<kbd>↩</kbd></i>)."
      ],
      "text/plain": [
       "Cannot show ipywidgets in text"
      ]
     },
     "metadata": {},
     "output_type": "display_data"
    }
   ],
   "source": [
    "model = WealthModel()\n",
    "model_params = {\n",
    "    \"policy\": {\n",
    "        \"type\": \"Select\",\n",
    "        \"value\": \"econophysics\",\n",
    "        \"values\": [\"econophysics\", \"powerful leaders\",\"equal wealth distribution\", \"innovation\"],\n",
    "        \"text\": \"Select Policy\"\n",
    "    }\n",
    "}\n",
    "\n",
    "wealth_plot = make_plot_component(\"Gini\") #add labels and titles\n",
    "\n",
    "dash = SolaraViz(\n",
    "    model, \n",
    "    components=[Churn, wealth_plot, Wealth, Histogram],\n",
    "    model_params=model_params,\n",
    ")\n",
    "\n",
    "dash"
   ]
  },
  {
   "cell_type": "code",
   "execution_count": null,
   "id": "df70a94b-9d83-4cf4-b340-4fdb3ca8a410",
   "metadata": {
    "has_explanation": false,
    "jupyter": {
     "source_hidden": true
    }
   },
   "outputs": [],
   "source": []
  }
 ],
 "metadata": {
  "kernelspec": {
   "display_name": "Python 3 (ipykernel)",
   "language": "python",
   "name": "python3"
  },
  "language_info": {
   "codemirror_mode": {
    "name": "ipython",
    "version": 3
   },
   "file_extension": ".py",
   "mimetype": "text/x-python",
   "name": "python",
   "nbconvert_exporter": "python",
   "pygments_lexer": "ipython3",
   "version": "3.12.6"
  }
 },
 "nbformat": 4,
 "nbformat_minor": 5
}
