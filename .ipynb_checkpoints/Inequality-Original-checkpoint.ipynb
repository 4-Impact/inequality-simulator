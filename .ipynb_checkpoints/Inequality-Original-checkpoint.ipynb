{
 "cells": [
  {
   "cell_type": "code",
   "execution_count": 1,
   "id": "b2b031e1-f685-4a76-b747-13891909ce08",
   "metadata": {},
   "outputs": [
    {
     "data": {
      "application/javascript": [
       "\n",
       "                    window.jupyter_python_executable = '\\r\\r';\n",
       "                    window.jupyter_widget_checks_silent = true;\n",
       "                    window.jupyter_widget_checks_libraries = [{\"python\": \"ipyvuetify\", \"classic\": \"jupyter-vuetify/extension\", \"lab\": \"jupyter-vuetify\"}, {\"python\": \"ipyvue\", \"classic\": \"jupyter-vue/extension\", \"lab\": \"jupyter-vue\"}];\n",
       "                    "
      ],
      "text/plain": [
       "<IPython.core.display.Javascript object>"
      ]
     },
     "metadata": {},
     "output_type": "display_data"
    },
    {
     "data": {
      "text/html": [
       "<div class=\"jupyter-widget-checks-container\">\n",
       "    <script>\n",
       "        (function () {\n",
       "            console.log(\"Checking for jupyter-widgets extensions\")\n",
       "            const inLab = window._JUPYTERLAB !== undefined;\n",
       "            const silent = jupyter_widget_checks_silent;\n",
       "            const containers = document.getElementsByClassName('jupyter-widget-checks-container');\n",
       "            const rootEl = containers[containers.length - 1];\n",
       "            const libraries = window.jupyter_widget_checks_libraries;\n",
       "\n",
       "            function getBaseUrl() {\n",
       "                const labConfigData = document.getElementById(\"jupyter-config-data\");\n",
       "                if (labConfigData) {\n",
       "                    /* lab and Voila */\n",
       "                    return JSON.parse(labConfigData.textContent).baseUrl;\n",
       "                }\n",
       "                let base = document.body.dataset.baseUrl || document.baseURI;\n",
       "                return base;\n",
       "            }\n",
       "\n",
       "            function checkLibrary(extensions, library) {\n",
       "                let installed = false;\n",
       "                let ok = true;\n",
       "                if (inLab) {\n",
       "                    installed = _JUPYTERLAB[library.lab] !== undefined\n",
       "                } else {\n",
       "                    installed = extensions[library.classic] !== undefined;\n",
       "                    let enabled = extensions[library.classic] === true;\n",
       "                }\n",
       "                const div = document.createElement(\"div\")\n",
       "                if (installed) {\n",
       "                    if (!silent) {\n",
       "                        div.innerHTML = `Extension ${library.python} is installed at the server ✅`\n",
       "                        rootEl.appendChild(div)\n",
       "                    }\n",
       "                } else {\n",
       "                    div.innerHTML = `Extension ${library.python} is <b>NOT</b> installed at the server ❌.`\n",
       "                    rootEl.appendChild(div)\n",
       "                    ok = false;\n",
       "                }\n",
       "                return ok;\n",
       "            }\n",
       "\n",
       "            async function check() {\n",
       "                const url = `${getBaseUrl()}api/config/notebook`\n",
       "                const response = (await fetch(url));\n",
       "                const data = await response.json()\n",
       "                const extensions = data[\"load_extensions\"];\n",
       "                var ok = true;\n",
       "                let needsInstall = [];\n",
       "                libraries.forEach((library) => {\n",
       "                    if (!checkLibrary(extensions, library)) {\n",
       "                        ok = false;\n",
       "                        needsInstall.push(library.python)\n",
       "                        console.log(\"Needs install\", library.python)\n",
       "                    }\n",
       "                })\n",
       "                console.log(ok, needsInstall)\n",
       "                if (!ok) {\n",
       "                    const div = document.createElement(\"div\")\n",
       "                    const div2 = document.createElement(\"div\")\n",
       "                    div.innerHTML = `Run <code>${jupyter_python_executable} -m pip install ${needsInstall.join(\" \")}</code>. Refresh the page after installation.`\n",
       "                    div2.innerHTML = `Visit <a href=\"https://solara.dev/documentation/getting_started/troubleshoot\" target=\"_blank\">https://solara/dev/documentation/getting_started/troubleshoot</a> for more information.`\n",
       "                    rootEl.appendChild(div)\n",
       "                    rootEl.appendChild(div2)\n",
       "                }\n",
       "            }\n",
       "            check()\n",
       "        })();\n",
       "    </script>\n",
       "</div>\n"
      ],
      "text/plain": [
       "<IPython.core.display.HTML object>"
      ]
     },
     "metadata": {},
     "output_type": "display_data"
    }
   ],
   "source": [
    "import mesa\n",
    "import numpy as np\n",
    "from mesa.visualization import SolaraViz,make_plot_measure"
   ]
  },
  {
   "cell_type": "code",
   "execution_count": 2,
   "id": "e8a4c6cc-27c1-43b8-a45e-794c20012560",
   "metadata": {},
   "outputs": [],
   "source": [
    "class WealthAgent(mesa.Agent):\n",
    "    \n",
    "    def __init__(self,model, proportion):\n",
    "        super().__init__(model)\n",
    "        self.wealth=10\n",
    "        self.W =proportion\n",
    "        \n",
    "        \n",
    "    def step(self):\n",
    "        #increase welath by proportion - payday\n",
    "        self.wealth += (self.W*self.wealth)\n",
    "        #self.wealth -= 10000 #surival expense\n",
    "        \n",
    "        if self.wealth > 0: \n",
    "            #get basic expenses\n",
    "            exchange_agent = self.random.choice(self.model.agents)\n",
    "            if exchange_agent is not None and exchange_agent is not self:\n",
    "                #print(self.wealth)\n",
    "                exchange_agent.wealth += (exchange_agent.W*self.wealth)\n",
    "                self.wealth -= (exchange_agent.W*self.wealth)                \n",
    "                "
   ]
  },
  {
   "cell_type": "code",
   "execution_count": 40,
   "id": "757e4523-4d83-46bb-b0a5-8d13e259b977",
   "metadata": {},
   "outputs": [],
   "source": [
    "import solara\n",
    "from matplotlib.figure import Figure\n",
    "\n",
    "@solara.component\n",
    "def Histogram(model):\n",
    "    # Note: you must initialize a figure using this method instead of\n",
    "    # plt.figure(), for thread safety purpose\n",
    "    fig = Figure()\n",
    "    ax = fig.subplots()\n",
    "    wealth_vals = [agent.wealth for agent in model.agents]\n",
    "    # Note: you have to use Matplotlib's OOP API instead of plt.hist\n",
    "    # because plt.hist is not thread-safe.\n",
    "    ax.hist(wealth_vals, bins=10)\n",
    "    return solara.FigureMatplotlib(fig)\n",
    "\n",
    "def compute_gini(model):\n",
    "    agent_wealths = [agent.wealth for agent in model.agents]\n",
    "    x = sorted(agent_wealths)\n",
    "    N = model.population\n",
    "    B = sum(xi * (N - i) for i, xi in enumerate(x)) / (N * sum(x))\n",
    "    return 1 + (1 / N) - 2 * B"
   ]
  },
  {
   "cell_type": "code",
   "execution_count": 58,
   "id": "248bd8cc-7fd2-43b7-993d-11677109a672",
   "metadata": {},
   "outputs": [],
   "source": [
    "class WealthModel(mesa.Model): \n",
    "    \n",
    "    def __init__(self, population, tax=0.0, debt=False):\n",
    "        \n",
    "        super().__init__()\n",
    "        self.population = population\n",
    "        self.tax = tax\n",
    "        self.tax_dynamic1 = int(tax*population)\n",
    "        self.tax_dynamic2 = int(np.log2(population) + 1)\n",
    "        self.debt = debt\n",
    "        \n",
    "        #self.schedule = mesa.time.RandomActivation(self)\n",
    "        self.datacollector = mesa.DataCollector(model_reporters = {\"Gini\": compute_gini },\n",
    "                                               agent_reporters={\"Wealth\":\"wealth\"})\n",
    "        \n",
    "        \n",
    "        # create an array of iniaital weatth value    \n",
    "        gaussian_array = np.random.normal(loc=0.5,\n",
    "                                          scale=0.1,\n",
    "                                          size=self.population)\n",
    "        # round array to two decimals\n",
    "        gaussian_array = np.around(gaussian_array, decimals=2)\n",
    "        \n",
    "        for idx in range(self.population):\n",
    "            WealthAgent(self, float(gaussian_array[idx]))\n",
    "    \n",
    "    def step(self):\n",
    "        self.datacollector.collect(self)\n",
    "        Histogram(self)\n",
    "        self.agents.shuffle_do(\"step\")\n",
    "        '''\n",
    "        # Tax Model 1 - RobinHood\n",
    "        if model.tax > 0.0:\n",
    "            # Sort agents from richest to poorest\n",
    "            sorted_agents = sorted(self.agents, key=lambda agent: agent.wealth, reverse=True)\n",
    "            taxes = 0\n",
    "            for agent_idx in range(self.tax_dynamic): \n",
    "                #get percent\n",
    "                tax_amount = sorted_agents[agent_idx].wealth*self.tax\n",
    "                #tax wealthy\n",
    "                sorted_agents[agent_idx].wealth -= tax_amount\n",
    "                #give poor\n",
    "                sorted_agents[-agent_idx].wealth += tax_amount\n",
    "        '''\n",
    "        # Tax Model 2 - Flat Tax\n",
    "        if model.tax > 0.0: \n",
    "            # sort agents from poorest to richest\n",
    "            sorted_agents = sorted(self.agents, key=lambda agent: agent.wealth)\n",
    "            taxes = 0\n",
    "            for agent in sorted_agents: \n",
    "                tax_amount = agent.wealth*self.tax\n",
    "                taxes+=tax_amount\n",
    "                agent.wealth-=tax_amount\n",
    "            # determine historgram bins based on wealth distro\n",
    "            counts, _ = np.histogram([agent.wealth for agent in self.agents], bins=int(np.log2(self.population) + 1))\n",
    "            redistro = taxes/counts[0]\n",
    "            print(taxes, redistro, counts)\n",
    "            for agent in sorted_agents[:counts[0]]:\n",
    "                agent.wealth+=redistro\n",
    "        \n",
    "            \n",
    "        "
   ]
  },
  {
   "cell_type": "code",
   "execution_count": 59,
   "id": "71f22ac8-7339-4ba7-bed5-97aa6a5f1ec4",
   "metadata": {},
   "outputs": [
    {
     "name": "stdout",
     "output_type": "stream",
     "text": [
      "1436.9759356645582 14.514908441056143 [99 63 18 12  5  1  0  2]\n",
      "0\n",
      "2519.1870826467793 33.14719845587867 [76 58 31 14 10  6  2  3]\n",
      "1\n",
      "4541.2670096626325 48.83082806088852 [93 51 23 13 12  6  0  2]\n",
      "2\n",
      "8107.689066081469 73.04224383857179 [111  54  23   8   2   1   0   1]\n",
      "3\n",
      "14034.074153312271 133.6578490791645 [105  54  20   7   8   5   0   1]\n",
      "4\n",
      "24616.534618362253 261.8780278549176 [94 40 29 18  9  6  3  1]\n",
      "5\n",
      "43394.543078328126 549.2980136497231 [79 42 35 24  9  6  2  3]\n",
      "6\n",
      "78091.101330834 976.1387666354251 [80 56 28 18  8  4  1  5]\n",
      "7\n",
      "135618.98894629272 1965.4925934245323 [69 65 35 13  6  4  7  1]\n",
      "8\n",
      "240341.3862086462 1729.0747209255123 [139  41  15   4   0   0   0   1]\n",
      "9\n"
     ]
    }
   ],
   "source": [
    "model = WealthModel(200, tax=0.4)\n",
    "\n",
    "for step in range(10):\n",
    "    model.step()\n",
    "    print(step)\n",
    "    \n",
    "output = model.datacollector.get_agent_vars_dataframe()\n",
    "output.to_csv(\"inequality_output.csv\")"
   ]
  },
  {
   "cell_type": "code",
   "execution_count": 38,
   "id": "9b3c38d3-b120-430b-a5ab-6fb05fd41394",
   "metadata": {},
   "outputs": [
    {
     "data": {
      "application/vnd.jupyter.widget-view+json": {
       "model_id": "3f9c2e4e00ce4d41a0b3f170c0216ed4",
       "version_major": 2,
       "version_minor": 0
      },
      "text/html": [
       "Cannot show widget. You probably want to rerun the code cell above (<i>Click in the code cell, and press Shift+Enter <kbd>⇧</kbd>+<kbd>↩</kbd></i>)."
      ],
      "text/plain": [
       "Cannot show ipywidgets in text"
      ]
     },
     "metadata": {},
     "output_type": "display_data"
    }
   ],
   "source": [
    "model = WealthModel(50)\n",
    "\n",
    "model_params = {\n",
    "    \"population\": {\n",
    "        \"type\": \"SliderInt\",\n",
    "        \"value\": 50,\n",
    "        \"label\": \"Number of agents:\",\n",
    "        \"min\": 10,\n",
    "        \"max\": 200,\n",
    "        \"step\": 1,\n",
    "    },\n",
    "    \"tax\" : {\n",
    "    \"type\": \"SliderFloat\",\n",
    "    \"value\": 0.0, \n",
    "    \"min\": 0.0,\n",
    "    \"max\":1.0,\n",
    "    \"step\":0.05}\n",
    "}\n",
    "\n",
    "wealth_plot = make_plot_measure(\"Gini\")\n",
    "\n",
    "dash = SolaraViz(\n",
    "    model, \n",
    "    components=[wealth_plot],\n",
    "    model_params=model_params,\n",
    ")\n",
    "\n",
    "dash"
   ]
  },
  {
   "cell_type": "code",
   "execution_count": null,
   "id": "481cf24b-228f-4bba-a8c4-3544318afcf5",
   "metadata": {},
   "outputs": [],
   "source": []
  }
 ],
 "metadata": {
  "kernelspec": {
   "display_name": "Python 3 (ipykernel)",
   "language": "python",
   "name": "python3"
  },
  "language_info": {
   "codemirror_mode": {
    "name": "ipython",
    "version": 3
   },
   "file_extension": ".py",
   "mimetype": "text/x-python",
   "name": "python",
   "nbconvert_exporter": "python",
   "pygments_lexer": "ipython3",
   "version": "3.12.6"
  }
 },
 "nbformat": 4,
 "nbformat_minor": 5
}
