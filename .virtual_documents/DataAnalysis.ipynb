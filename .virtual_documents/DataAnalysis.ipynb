import pandas as pd
import matplotlib.pyplot as plt
import numpy as np


data = pd.read_csv("inequality_output.csv")
data.head()


data["AgentID"]


final = data[data["Step"]==100]
final = list(final["Wealth"])



#uses sturges rule of bin creation
plt.hist(final, bins = int(np.log2(200) + 1))
None


min(final), max(final), sum(final)


X= list(range(1, 201))
y = sorted(final)


len(y), len(X)


plt.scatter(X,y)


# Filter the DataFrame to include only rows where Step is 100
step_100_df = data.loc[data['Step'] == 25]

# Find the row with the minimum Wealth at Step 100
min_wealth_row = step_100_df.loc[step_100_df['Wealth'].idxmax()]
min_wealth_row


oneagent = data.loc[data['AgentID'] == 37]


# Plot the wealth of agent 14 over time
g = plt.plot(oneagent["Step"], oneagent["Wealth"])


oneagent["Wealth"]


oneagent["Innovation"].unique()


ccdf =[]
for idx in range(len(final)): 
    if len(ccdf) == 0: 
        ccdf.append(final[idx])
    else: 
        ccdf.append(final[idx]+ccdf[-1])


plt.plot(X,ccdf)



data2 = pd.read_csv("model_output.csv")
data2.head()


plt.plot(data2["Gini"])


x = range(1,26)
plt.scatter(x,data2["Total"])


data2["Total"]


import numpy as np
payday_array = np.random.normal(loc=0.2,
                                          scale=0.05,
                                          size=200)
innovation_array = np.random.normal(loc=1.05,
                                          scale=0.01,
                                          size=200)
x = range(1,201)
plt.hist(payday_array)
plt.hist(innovation_array)





from matplotlib.figure import Figure

fig = Figure()
ax = fig.subplots()
# Note: you have to use Matplotlib's OOP API instead of plt.hist
# because plt.hist is not thread-safe.
ax.hist(final, bins=10)
fig



