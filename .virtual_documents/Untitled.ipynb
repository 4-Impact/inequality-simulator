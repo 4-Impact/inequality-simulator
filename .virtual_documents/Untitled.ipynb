import mesa
import numpy as np
from mesa.visualization import SolaraViz,make_plot_measure


class WealthAgent(mesa.Agent):
    
    def __init__(self,model, proportion):
        super().__init__(model)
        self.wealth=38000
        self.W =proportion
        
        
    def step(self):
        #increase welath by proportion - payday
        self.wealth += (self.W*self.wealth)
        #self.wealth -= 10000 #surival expense
        
        if self.wealth > 0: 
            #get basic expenses
            exchange_agent = self.random.choice(self.model.agents)
            if exchange_agent is not None and exchange_agent is not self:
                #print(self.wealth)
                exchange_agent.wealth += (exchange_agent.W*self.wealth)
                self.wealth -= (exchange_agent.W*self.wealth)


def wealth_distro(model):
    agent_wealth = [agent.wealth for agent in model.agents]
    y = sorted(agent_wealth)
    X= list(range(1, 2001))
    return (X,y)


class WealthModel(mesa.Model): 
    
    def __init__(self, population):
                 #average_income = 38000,
                 #standard_deviation = 1818): #obtained from https://apps.bea.gov/scb/issues/2021/01-january/0121-revisions-to-gdp-gdi.htm
        
        super().__init__()
        self.population = population
        
        #self.schedule = mesa.time.RandomActivation(self)
        self.datacollector = mesa.DataCollector(model_reporters = {"Distro": wealth_distro},
                                                agent_reporters={"Wealth":"wealth"})
        
        
        # create an array of iniaital weatth value    
        gaussian_array = np.random.normal(loc=0.5,
                                          scale=0.15,
                                          size=self.population)
        # round array to two decimals
        gaussian_array = np.around(gaussian_array, decimals=2)
        
        for idx in range(self.population):
            WealthAgent(self, gaussian_array[idx])
    
    def step(self):
        self.datacollector.collect(self)
        self.agents.shuffle_do("step")


model = WealthModel(2000)

model_params = {
    "population": {
        "type": "SliderInt",
        "value": 50,
        "label": "Number of agents:",
        "min": 10,
        "max": 100,
        "step": 1,
    }
}

wealth_plot = make_plot_measure("Distro")

dash = SolaraViz(
    model, 
    components=[wealth_plot],
    model_params=model_params,
)



